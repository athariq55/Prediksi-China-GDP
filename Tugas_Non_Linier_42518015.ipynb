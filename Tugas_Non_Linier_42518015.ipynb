{
  "nbformat": 4,
  "nbformat_minor": 0,
  "metadata": {
    "colab": {
      "provenance": []
    },
    "kernelspec": {
      "name": "python3",
      "display_name": "Python 3"
    },
    "language_info": {
      "name": "python"
    }
  },
  "cells": [
    {
      "cell_type": "code",
      "execution_count": null,
      "metadata": {
        "id": "zAu7s_OcBZUh"
      },
      "outputs": [],
      "source": [
        "import numpy as np\n",
        "import pandas as pd\n",
        "import matplotlib.pyplot as plt\n",
        "%matplotlib inline"
      ]
    },
    {
      "cell_type": "code",
      "source": [
        "path = \"sample_data/china_gdp.csv\"\n",
        "df = pd.read_csv(path)\n",
        "df"
      ],
      "metadata": {
        "colab": {
          "base_uri": "https://localhost:8080/",
          "height": 1000
        },
        "id": "VGquAeC2Btxl",
        "outputId": "7fd0ab88-208e-4a95-ccf9-ce426ea42d11"
      },
      "execution_count": null,
      "outputs": [
        {
          "output_type": "execute_result",
          "data": {
            "text/html": [
              "\n",
              "  <div id=\"df-f3b89a76-16e4-4622-9889-2db07d2dcfd8\">\n",
              "    <div class=\"colab-df-container\">\n",
              "      <div>\n",
              "<style scoped>\n",
              "    .dataframe tbody tr th:only-of-type {\n",
              "        vertical-align: middle;\n",
              "    }\n",
              "\n",
              "    .dataframe tbody tr th {\n",
              "        vertical-align: top;\n",
              "    }\n",
              "\n",
              "    .dataframe thead th {\n",
              "        text-align: right;\n",
              "    }\n",
              "</style>\n",
              "<table border=\"1\" class=\"dataframe\">\n",
              "  <thead>\n",
              "    <tr style=\"text-align: right;\">\n",
              "      <th></th>\n",
              "      <th>Year</th>\n",
              "      <th>Value</th>\n",
              "    </tr>\n",
              "  </thead>\n",
              "  <tbody>\n",
              "    <tr>\n",
              "      <th>0</th>\n",
              "      <td>1960</td>\n",
              "      <td>5.918412e+10</td>\n",
              "    </tr>\n",
              "    <tr>\n",
              "      <th>1</th>\n",
              "      <td>1961</td>\n",
              "      <td>4.955705e+10</td>\n",
              "    </tr>\n",
              "    <tr>\n",
              "      <th>2</th>\n",
              "      <td>1962</td>\n",
              "      <td>4.668518e+10</td>\n",
              "    </tr>\n",
              "    <tr>\n",
              "      <th>3</th>\n",
              "      <td>1963</td>\n",
              "      <td>5.009730e+10</td>\n",
              "    </tr>\n",
              "    <tr>\n",
              "      <th>4</th>\n",
              "      <td>1964</td>\n",
              "      <td>5.906225e+10</td>\n",
              "    </tr>\n",
              "    <tr>\n",
              "      <th>5</th>\n",
              "      <td>1965</td>\n",
              "      <td>6.970915e+10</td>\n",
              "    </tr>\n",
              "    <tr>\n",
              "      <th>6</th>\n",
              "      <td>1966</td>\n",
              "      <td>7.587943e+10</td>\n",
              "    </tr>\n",
              "    <tr>\n",
              "      <th>7</th>\n",
              "      <td>1967</td>\n",
              "      <td>7.205703e+10</td>\n",
              "    </tr>\n",
              "    <tr>\n",
              "      <th>8</th>\n",
              "      <td>1968</td>\n",
              "      <td>6.999350e+10</td>\n",
              "    </tr>\n",
              "    <tr>\n",
              "      <th>9</th>\n",
              "      <td>1969</td>\n",
              "      <td>7.871882e+10</td>\n",
              "    </tr>\n",
              "    <tr>\n",
              "      <th>10</th>\n",
              "      <td>1970</td>\n",
              "      <td>9.150621e+10</td>\n",
              "    </tr>\n",
              "    <tr>\n",
              "      <th>11</th>\n",
              "      <td>1971</td>\n",
              "      <td>9.856202e+10</td>\n",
              "    </tr>\n",
              "    <tr>\n",
              "      <th>12</th>\n",
              "      <td>1972</td>\n",
              "      <td>1.121598e+11</td>\n",
              "    </tr>\n",
              "    <tr>\n",
              "      <th>13</th>\n",
              "      <td>1973</td>\n",
              "      <td>1.367699e+11</td>\n",
              "    </tr>\n",
              "    <tr>\n",
              "      <th>14</th>\n",
              "      <td>1974</td>\n",
              "      <td>1.422547e+11</td>\n",
              "    </tr>\n",
              "    <tr>\n",
              "      <th>15</th>\n",
              "      <td>1975</td>\n",
              "      <td>1.611625e+11</td>\n",
              "    </tr>\n",
              "    <tr>\n",
              "      <th>16</th>\n",
              "      <td>1976</td>\n",
              "      <td>1.516277e+11</td>\n",
              "    </tr>\n",
              "    <tr>\n",
              "      <th>17</th>\n",
              "      <td>1977</td>\n",
              "      <td>1.723490e+11</td>\n",
              "    </tr>\n",
              "    <tr>\n",
              "      <th>18</th>\n",
              "      <td>1978</td>\n",
              "      <td>1.483821e+11</td>\n",
              "    </tr>\n",
              "    <tr>\n",
              "      <th>19</th>\n",
              "      <td>1979</td>\n",
              "      <td>1.768565e+11</td>\n",
              "    </tr>\n",
              "    <tr>\n",
              "      <th>20</th>\n",
              "      <td>1980</td>\n",
              "      <td>1.896500e+11</td>\n",
              "    </tr>\n",
              "    <tr>\n",
              "      <th>21</th>\n",
              "      <td>1981</td>\n",
              "      <td>1.943690e+11</td>\n",
              "    </tr>\n",
              "    <tr>\n",
              "      <th>22</th>\n",
              "      <td>1982</td>\n",
              "      <td>2.035496e+11</td>\n",
              "    </tr>\n",
              "    <tr>\n",
              "      <th>23</th>\n",
              "      <td>1983</td>\n",
              "      <td>2.289502e+11</td>\n",
              "    </tr>\n",
              "    <tr>\n",
              "      <th>24</th>\n",
              "      <td>1984</td>\n",
              "      <td>2.580821e+11</td>\n",
              "    </tr>\n",
              "    <tr>\n",
              "      <th>25</th>\n",
              "      <td>1985</td>\n",
              "      <td>3.074796e+11</td>\n",
              "    </tr>\n",
              "    <tr>\n",
              "      <th>26</th>\n",
              "      <td>1986</td>\n",
              "      <td>2.988058e+11</td>\n",
              "    </tr>\n",
              "    <tr>\n",
              "      <th>27</th>\n",
              "      <td>1987</td>\n",
              "      <td>2.713498e+11</td>\n",
              "    </tr>\n",
              "    <tr>\n",
              "      <th>28</th>\n",
              "      <td>1988</td>\n",
              "      <td>3.107222e+11</td>\n",
              "    </tr>\n",
              "    <tr>\n",
              "      <th>29</th>\n",
              "      <td>1989</td>\n",
              "      <td>3.459575e+11</td>\n",
              "    </tr>\n",
              "    <tr>\n",
              "      <th>30</th>\n",
              "      <td>1990</td>\n",
              "      <td>3.589732e+11</td>\n",
              "    </tr>\n",
              "    <tr>\n",
              "      <th>31</th>\n",
              "      <td>1991</td>\n",
              "      <td>3.814547e+11</td>\n",
              "    </tr>\n",
              "    <tr>\n",
              "      <th>32</th>\n",
              "      <td>1992</td>\n",
              "      <td>4.249341e+11</td>\n",
              "    </tr>\n",
              "    <tr>\n",
              "      <th>33</th>\n",
              "      <td>1993</td>\n",
              "      <td>4.428746e+11</td>\n",
              "    </tr>\n",
              "    <tr>\n",
              "      <th>34</th>\n",
              "      <td>1994</td>\n",
              "      <td>5.622611e+11</td>\n",
              "    </tr>\n",
              "    <tr>\n",
              "      <th>35</th>\n",
              "      <td>1995</td>\n",
              "      <td>7.320320e+11</td>\n",
              "    </tr>\n",
              "    <tr>\n",
              "      <th>36</th>\n",
              "      <td>1996</td>\n",
              "      <td>8.608441e+11</td>\n",
              "    </tr>\n",
              "    <tr>\n",
              "      <th>37</th>\n",
              "      <td>1997</td>\n",
              "      <td>9.581594e+11</td>\n",
              "    </tr>\n",
              "    <tr>\n",
              "      <th>38</th>\n",
              "      <td>1998</td>\n",
              "      <td>1.025277e+12</td>\n",
              "    </tr>\n",
              "    <tr>\n",
              "      <th>39</th>\n",
              "      <td>1999</td>\n",
              "      <td>1.089447e+12</td>\n",
              "    </tr>\n",
              "    <tr>\n",
              "      <th>40</th>\n",
              "      <td>2000</td>\n",
              "      <td>1.205261e+12</td>\n",
              "    </tr>\n",
              "    <tr>\n",
              "      <th>41</th>\n",
              "      <td>2001</td>\n",
              "      <td>1.332235e+12</td>\n",
              "    </tr>\n",
              "    <tr>\n",
              "      <th>42</th>\n",
              "      <td>2002</td>\n",
              "      <td>1.461906e+12</td>\n",
              "    </tr>\n",
              "    <tr>\n",
              "      <th>43</th>\n",
              "      <td>2003</td>\n",
              "      <td>1.649929e+12</td>\n",
              "    </tr>\n",
              "    <tr>\n",
              "      <th>44</th>\n",
              "      <td>2004</td>\n",
              "      <td>1.941746e+12</td>\n",
              "    </tr>\n",
              "    <tr>\n",
              "      <th>45</th>\n",
              "      <td>2005</td>\n",
              "      <td>2.268599e+12</td>\n",
              "    </tr>\n",
              "    <tr>\n",
              "      <th>46</th>\n",
              "      <td>2006</td>\n",
              "      <td>2.729784e+12</td>\n",
              "    </tr>\n",
              "    <tr>\n",
              "      <th>47</th>\n",
              "      <td>2007</td>\n",
              "      <td>3.523094e+12</td>\n",
              "    </tr>\n",
              "    <tr>\n",
              "      <th>48</th>\n",
              "      <td>2008</td>\n",
              "      <td>4.558431e+12</td>\n",
              "    </tr>\n",
              "    <tr>\n",
              "      <th>49</th>\n",
              "      <td>2009</td>\n",
              "      <td>5.059420e+12</td>\n",
              "    </tr>\n",
              "    <tr>\n",
              "      <th>50</th>\n",
              "      <td>2010</td>\n",
              "      <td>6.039659e+12</td>\n",
              "    </tr>\n",
              "    <tr>\n",
              "      <th>51</th>\n",
              "      <td>2011</td>\n",
              "      <td>7.492432e+12</td>\n",
              "    </tr>\n",
              "    <tr>\n",
              "      <th>52</th>\n",
              "      <td>2012</td>\n",
              "      <td>8.461623e+12</td>\n",
              "    </tr>\n",
              "    <tr>\n",
              "      <th>53</th>\n",
              "      <td>2013</td>\n",
              "      <td>9.490603e+12</td>\n",
              "    </tr>\n",
              "    <tr>\n",
              "      <th>54</th>\n",
              "      <td>2014</td>\n",
              "      <td>1.035483e+13</td>\n",
              "    </tr>\n",
              "  </tbody>\n",
              "</table>\n",
              "</div>\n",
              "      <button class=\"colab-df-convert\" onclick=\"convertToInteractive('df-f3b89a76-16e4-4622-9889-2db07d2dcfd8')\"\n",
              "              title=\"Convert this dataframe to an interactive table.\"\n",
              "              style=\"display:none;\">\n",
              "        \n",
              "  <svg xmlns=\"http://www.w3.org/2000/svg\" height=\"24px\"viewBox=\"0 0 24 24\"\n",
              "       width=\"24px\">\n",
              "    <path d=\"M0 0h24v24H0V0z\" fill=\"none\"/>\n",
              "    <path d=\"M18.56 5.44l.94 2.06.94-2.06 2.06-.94-2.06-.94-.94-2.06-.94 2.06-2.06.94zm-11 1L8.5 8.5l.94-2.06 2.06-.94-2.06-.94L8.5 2.5l-.94 2.06-2.06.94zm10 10l.94 2.06.94-2.06 2.06-.94-2.06-.94-.94-2.06-.94 2.06-2.06.94z\"/><path d=\"M17.41 7.96l-1.37-1.37c-.4-.4-.92-.59-1.43-.59-.52 0-1.04.2-1.43.59L10.3 9.45l-7.72 7.72c-.78.78-.78 2.05 0 2.83L4 21.41c.39.39.9.59 1.41.59.51 0 1.02-.2 1.41-.59l7.78-7.78 2.81-2.81c.8-.78.8-2.07 0-2.86zM5.41 20L4 18.59l7.72-7.72 1.47 1.35L5.41 20z\"/>\n",
              "  </svg>\n",
              "      </button>\n",
              "      \n",
              "  <style>\n",
              "    .colab-df-container {\n",
              "      display:flex;\n",
              "      flex-wrap:wrap;\n",
              "      gap: 12px;\n",
              "    }\n",
              "\n",
              "    .colab-df-convert {\n",
              "      background-color: #E8F0FE;\n",
              "      border: none;\n",
              "      border-radius: 50%;\n",
              "      cursor: pointer;\n",
              "      display: none;\n",
              "      fill: #1967D2;\n",
              "      height: 32px;\n",
              "      padding: 0 0 0 0;\n",
              "      width: 32px;\n",
              "    }\n",
              "\n",
              "    .colab-df-convert:hover {\n",
              "      background-color: #E2EBFA;\n",
              "      box-shadow: 0px 1px 2px rgba(60, 64, 67, 0.3), 0px 1px 3px 1px rgba(60, 64, 67, 0.15);\n",
              "      fill: #174EA6;\n",
              "    }\n",
              "\n",
              "    [theme=dark] .colab-df-convert {\n",
              "      background-color: #3B4455;\n",
              "      fill: #D2E3FC;\n",
              "    }\n",
              "\n",
              "    [theme=dark] .colab-df-convert:hover {\n",
              "      background-color: #434B5C;\n",
              "      box-shadow: 0px 1px 3px 1px rgba(0, 0, 0, 0.15);\n",
              "      filter: drop-shadow(0px 1px 2px rgba(0, 0, 0, 0.3));\n",
              "      fill: #FFFFFF;\n",
              "    }\n",
              "  </style>\n",
              "\n",
              "      <script>\n",
              "        const buttonEl =\n",
              "          document.querySelector('#df-f3b89a76-16e4-4622-9889-2db07d2dcfd8 button.colab-df-convert');\n",
              "        buttonEl.style.display =\n",
              "          google.colab.kernel.accessAllowed ? 'block' : 'none';\n",
              "\n",
              "        async function convertToInteractive(key) {\n",
              "          const element = document.querySelector('#df-f3b89a76-16e4-4622-9889-2db07d2dcfd8');\n",
              "          const dataTable =\n",
              "            await google.colab.kernel.invokeFunction('convertToInteractive',\n",
              "                                                     [key], {});\n",
              "          if (!dataTable) return;\n",
              "\n",
              "          const docLinkHtml = 'Like what you see? Visit the ' +\n",
              "            '<a target=\"_blank\" href=https://colab.research.google.com/notebooks/data_table.ipynb>data table notebook</a>'\n",
              "            + ' to learn more about interactive tables.';\n",
              "          element.innerHTML = '';\n",
              "          dataTable['output_type'] = 'display_data';\n",
              "          await google.colab.output.renderOutput(dataTable, element);\n",
              "          const docLink = document.createElement('div');\n",
              "          docLink.innerHTML = docLinkHtml;\n",
              "          element.appendChild(docLink);\n",
              "        }\n",
              "      </script>\n",
              "    </div>\n",
              "  </div>\n",
              "  "
            ],
            "text/plain": [
              "    Year         Value\n",
              "0   1960  5.918412e+10\n",
              "1   1961  4.955705e+10\n",
              "2   1962  4.668518e+10\n",
              "3   1963  5.009730e+10\n",
              "4   1964  5.906225e+10\n",
              "5   1965  6.970915e+10\n",
              "6   1966  7.587943e+10\n",
              "7   1967  7.205703e+10\n",
              "8   1968  6.999350e+10\n",
              "9   1969  7.871882e+10\n",
              "10  1970  9.150621e+10\n",
              "11  1971  9.856202e+10\n",
              "12  1972  1.121598e+11\n",
              "13  1973  1.367699e+11\n",
              "14  1974  1.422547e+11\n",
              "15  1975  1.611625e+11\n",
              "16  1976  1.516277e+11\n",
              "17  1977  1.723490e+11\n",
              "18  1978  1.483821e+11\n",
              "19  1979  1.768565e+11\n",
              "20  1980  1.896500e+11\n",
              "21  1981  1.943690e+11\n",
              "22  1982  2.035496e+11\n",
              "23  1983  2.289502e+11\n",
              "24  1984  2.580821e+11\n",
              "25  1985  3.074796e+11\n",
              "26  1986  2.988058e+11\n",
              "27  1987  2.713498e+11\n",
              "28  1988  3.107222e+11\n",
              "29  1989  3.459575e+11\n",
              "30  1990  3.589732e+11\n",
              "31  1991  3.814547e+11\n",
              "32  1992  4.249341e+11\n",
              "33  1993  4.428746e+11\n",
              "34  1994  5.622611e+11\n",
              "35  1995  7.320320e+11\n",
              "36  1996  8.608441e+11\n",
              "37  1997  9.581594e+11\n",
              "38  1998  1.025277e+12\n",
              "39  1999  1.089447e+12\n",
              "40  2000  1.205261e+12\n",
              "41  2001  1.332235e+12\n",
              "42  2002  1.461906e+12\n",
              "43  2003  1.649929e+12\n",
              "44  2004  1.941746e+12\n",
              "45  2005  2.268599e+12\n",
              "46  2006  2.729784e+12\n",
              "47  2007  3.523094e+12\n",
              "48  2008  4.558431e+12\n",
              "49  2009  5.059420e+12\n",
              "50  2010  6.039659e+12\n",
              "51  2011  7.492432e+12\n",
              "52  2012  8.461623e+12\n",
              "53  2013  9.490603e+12\n",
              "54  2014  1.035483e+13"
            ]
          },
          "metadata": {},
          "execution_count": 2
        }
      ]
    },
    {
      "cell_type": "code",
      "source": [
        "def sigmoid(x, Beta_1, Beta_2):\n",
        "     y = 1 / (1 + np.exp(-Beta_1*(x-Beta_2)))\n",
        "     return y"
      ],
      "metadata": {
        "id": "bdSVvBnPB0ov"
      },
      "execution_count": null,
      "outputs": []
    },
    {
      "cell_type": "code",
      "source": [
        "plt.figure(figsize=(8,5))\n",
        "x_data, y_data = (df[\"Year\"].values, df[\"Value\"].values)\n",
        "plt.plot(x_data, y_data, 'ro')\n",
        "plt.ylabel('GDP')\n",
        "plt.xlabel('Year')\n",
        "plt.show()"
      ],
      "metadata": {
        "colab": {
          "base_uri": "https://localhost:8080/",
          "height": 345
        },
        "id": "z8MIkgtJUnUj",
        "outputId": "20d13451-8631-4870-85b8-6d4c5f55933d"
      },
      "execution_count": null,
      "outputs": [
        {
          "output_type": "display_data",
          "data": {
            "image/png": "[encoded data removed]",
            "text/plain": [
              "<Figure size 576x360 with 1 Axes>"
            ]
          },
          "metadata": {
            "needs_background": "light"
          }
        }
      ]
    },
    {
      "cell_type": "code",
      "source": [
        "# Lets normalize our data\n",
        "xdata =x_data/max(x_data)\n",
        "ydata =y_data/max(y_data)\n",
        "from scipy.optimize import curve_fit\n",
        "popt, pcov = curve_fit(sigmoid, xdata, ydata)\n",
        "# print the final parameters\n",
        "print(\" beta_1 = %f, beta_2 = %f\" % (popt[0], popt[1]))"
      ],
      "metadata": {
        "colab": {
          "base_uri": "https://localhost:8080/"
        },
        "id": "VRnU4esjfLjo",
        "outputId": "4afe6104-7f14-4d5c-83e7-f633995b93cb"
      },
      "execution_count": null,
      "outputs": [
        {
          "output_type": "stream",
          "name": "stdout",
          "text": [
            " beta_1 = 690.453019, beta_2 = 0.997207\n"
          ]
        }
      ]
    },
    {
      "cell_type": "code",
      "source": [
        "#Nomor 1A\n",
        "\n",
        "def sigmoid(x, Beta_1, Beta_2):\n",
        "     y = 1 / (1 + np.exp(-Beta_1*(x-Beta_2)))\n",
        "     return y\n",
        "\n",
        "beta_1 = 690.451711\n",
        "beta_2 = 0.997207\n",
        "\n",
        "x = np.linspace(1960, 2014, 55)\n",
        "x = x/max(x)\n",
        "\n",
        "#logistic function\n",
        "ypred = sigmoid(x, beta_1 , beta_2)\n",
        "plt.figure(figsize=(8,5))\n",
        "#plot initial prediction against datapoints\n",
        "plt.plot(x_data, y_data, 'ro', label='data')\n",
        "plt.plot(x_data, ypred * 10000000000000, linewidth=3.0, label = 'prediksi')\n",
        "plt.legend(loc='best')\n",
        "plt.ylabel('GDP')\n",
        "plt.xlabel('Year')\n",
        "plt.show()"
      ],
      "metadata": {
        "colab": {
          "base_uri": "https://localhost:8080/",
          "height": 345
        },
        "id": "i_2hm4T4B8MU",
        "outputId": "229147f1-f79d-4823-8c6a-02b9c94c3b1a"
      },
      "execution_count": null,
      "outputs": [
        {
          "output_type": "display_data",
          "data": {
            "image/png": "[encoded data removed]",
            "text/plain": [
              "<Figure size 576x360 with 1 Axes>"
            ]
          },
          "metadata": {
            "needs_background": "light"
          }
        }
      ]
    },
    {
      "cell_type": "code",
      "source": [
        "#Nomor 1B\n",
        "xt = np.arange(2015, 2030, 0.1)\n",
        "x = xt/max(xt)\n",
        "# x = np.log(xt)\n",
        "\n",
        "def sigmoid(x, Beta_1, Beta_2):\n",
        "     y = 1 / (1 + np.exp(-Beta_1*(x-Beta_2)))\n",
        "     return y\n",
        "\n",
        "beta_1 = 690.453019\n",
        "beta_2 = 0.997207\n",
        "\n",
        "#logistic function\n",
        "ypred = np.log(sigmoid(x, beta_1 , beta_2))\n",
        "# ypred = np.log(yt)\n",
        "plt.figure(figsize=(8,5))\n",
        "\n",
        "#plot initial prediction against datapoints\n",
        "plt.plot(xt, ypred * 10000000000000, linewidth=3.0, label = 'prediksi')\n",
        "plt.legend(loc='best')\n",
        "plt.ylabel('GDP')\n",
        "plt.xlabel('Year')\n",
        "plt.show()"
      ],
      "metadata": {
        "colab": {
          "base_uri": "https://localhost:8080/",
          "height": 345
        },
        "id": "5ZhP1FLmpQFo",
        "outputId": "8c54f60a-0cd7-4c8c-e428-4b2a067236f4"
      },
      "execution_count": null,
      "outputs": [
        {
          "output_type": "display_data",
          "data": {
            "image/png": "[encoded data removed]",
            "text/plain": [
              "<Figure size 576x360 with 1 Axes>"
            ]
          },
          "metadata": {
            "needs_background": "light"
          }
        }
      ]
    },
    {
      "cell_type": "code",
      "source": [
        "# Lets normalize our data\n",
        "xdata =x_data/max(x_data)\n",
        "ydata =y_data/max(y_data)\n",
        "\n",
        "x = np.linspace(1960, 2014, 55)\n",
        "x = x/max(x)\n",
        "\n",
        "#logistic function\n",
        "ypred = sigmoid(x, beta_1 , beta_2)\n",
        "\n",
        "print(ypred)\n",
        "print(ydata)"
      ],
      "metadata": {
        "id": "_inimHcdpQs9",
        "colab": {
          "base_uri": "https://localhost:8080/"
        },
        "outputId": "e8258082-bd4e-4611-c912-5a1f5f6dc7ac"
      },
      "execution_count": null,
      "outputs": [
        {
          "output_type": "stream",
          "name": "stdout",
          "text": [
            "[6.27436918e-08 8.84011290e-08 1.24550521e-07 1.75482285e-07\n",
            " 2.47241292e-07 3.48344304e-07 4.90790792e-07 6.91487084e-07\n",
            " 9.74252892e-07 1.37264832e-06 1.93395691e-06 2.72479733e-06\n",
            " 3.83902972e-06 5.40889495e-06 7.62070833e-06 1.07369700e-05\n",
            " 1.51275148e-05 2.13133960e-05 3.00287064e-05 4.23076638e-05\n",
            " 5.96072772e-05 8.39801126e-05 1.18317584e-04 1.66692490e-04\n",
            " 2.34841143e-04 3.30841693e-04 4.66067948e-04 6.56529474e-04\n",
            " 9.24752262e-04 1.30241370e-03 1.83402593e-03 2.58206777e-03\n",
            " 3.63410167e-03 5.11257759e-03 7.18820828e-03 1.00979612e-02\n",
            " 1.41687589e-02 1.98477163e-02 2.77388016e-02 3.86435434e-02\n",
            " 5.35988542e-02 7.38970765e-02 1.01061499e-01 1.36737160e-01\n",
            " 1.82450590e-01 2.39211878e-01 3.07000799e-01 3.84296347e-01\n",
            " 4.67912894e-01 5.53371316e-01 6.35787846e-01 7.10940279e-01\n",
            " 7.76047862e-01 8.29997361e-01 8.73076128e-01]\n",
            "[0.0057156  0.00478589 0.00450854 0.00483806 0.00570384 0.00673204\n",
            " 0.00732793 0.00695878 0.0067595  0.00760213 0.00883705 0.00951846\n",
            " 0.01083164 0.01320831 0.01373801 0.01556399 0.01464318 0.01664431\n",
            " 0.01432975 0.01707961 0.01831512 0.01877086 0.01965745 0.02211047\n",
            " 0.02492384 0.02969431 0.02885665 0.02620514 0.03000746 0.03341025\n",
            " 0.03466722 0.03683833 0.04103727 0.04276985 0.0542994  0.07069473\n",
            " 0.08313453 0.09253259 0.09901435 0.10521147 0.11639597 0.12865827\n",
            " 0.1411811  0.15933902 0.18752073 0.21908602 0.26362418 0.34023675\n",
            " 0.44022261 0.48860473 0.58326959 0.7235687  0.81716665 0.91653856\n",
            " 1.        ]\n"
          ]
        }
      ]
    },
    {
      "cell_type": "code",
      "source": [
        "from sklearn.metrics import mean_absolute_error\n",
        "\n",
        "#calculate MAE\n",
        "mae = mean_absolute_error(y_data, ypred)\n",
        "print('MAE :', mae)"
      ],
      "metadata": {
        "colab": {
          "base_uri": "https://localhost:8080/"
        },
        "id": "h97wYQt2pSWa",
        "outputId": "f9f41eae-71d9-4863-8f9f-a8b7b226cb69"
      },
      "execution_count": null,
      "outputs": [
        {
          "output_type": "stream",
          "name": "stdout",
          "text": [
            "MAE : 1437041815987.3784\n"
          ]
        }
      ]
    },
    {
      "cell_type": "code",
      "source": [
        "from sklearn.metrics import mean_squared_error\n",
        "\n",
        "# Calculation of Mean Squared Error (MSE)\n",
        "mse = mean_squared_error(y_data, ypred)\n",
        "print('MSE :', mse)"
      ],
      "metadata": {
        "colab": {
          "base_uri": "https://localhost:8080/"
        },
        "id": "KdcxEVeqpX_3",
        "outputId": "07a51b13-d475-4997-e16c-9566fbfdfa6f"
      },
      "execution_count": null,
      "outputs": [
        {
          "output_type": "stream",
          "name": "stdout",
          "text": [
            "MSE : 8.201868308557399e+24\n"
          ]
        }
      ]
    },
    {
      "cell_type": "code",
      "source": [
        "from sklearn.metrics import r2_score\n",
        "\n",
        "# Calculate R-Squared\n",
        "r2 = r2_score(y_data, ypred)\n",
        "print('(R-Squared) R2 :', r2)"
      ],
      "metadata": {
        "id": "8xSC1BeopYco",
        "colab": {
          "base_uri": "https://localhost:8080/"
        },
        "outputId": "1b6f2c96-71c1-41cb-9ffe-7f0cc3d553f7"
      },
      "execution_count": null,
      "outputs": [
        {
          "output_type": "stream",
          "name": "stdout",
          "text": [
            "(R-Squared) R2 : -0.33651026669454365\n"
          ]
        }
      ]
    },
    {
      "cell_type": "code",
      "source": [
        "#Nomor 1B\n",
        "xt = np.arange(2015, 2030, 0.1)\n",
        "x = xt/max(xt)\n",
        "# x = np.log(xt)\n",
        "\n",
        "def sigmoid(x, Beta_1, Beta_2):\n",
        "     y = 1 / (1 + np.exp(-Beta_1*(x-Beta_2)))\n",
        "     return y\n",
        "\n",
        "beta_1 = 0.94\n",
        "beta_2 = 1.2\n",
        "\n",
        "#logistic function\n",
        "ypred = np.log(sigmoid(x, beta_1 , beta_2))\n",
        "# ypred = np.log(yt)\n",
        "plt.figure(figsize=(8,5))\n",
        "\n",
        "#plot initial prediction against datapoints\n",
        "plt.plot(xt, ypred * 10000000000000, linewidth=3.0, label = 'prediksi')\n",
        "plt.legend(loc='best')\n",
        "plt.ylabel('GDP')\n",
        "plt.xlabel('Year')\n",
        "plt.show()"
      ],
      "metadata": {
        "colab": {
          "base_uri": "https://localhost:8080/",
          "height": 345
        },
        "id": "ihgPsVHZmptx",
        "outputId": "3ee474b9-9f04-4931-d49e-7f0163124401"
      },
      "execution_count": null,
      "outputs": [
        {
          "output_type": "display_data",
          "data": {
            "image/png": "[encoded data removed]",
            "text/plain": [
              "<Figure size 576x360 with 1 Axes>"
            ]
          },
          "metadata": {
            "needs_background": "light"
          }
        }
      ]
    }
  ]
}